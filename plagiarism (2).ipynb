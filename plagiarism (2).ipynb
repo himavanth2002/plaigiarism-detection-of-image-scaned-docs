{
 "cells": [
  {
   "cell_type": "code",
   "execution_count": 13,
   "id": "6103b249",
   "metadata": {},
   "outputs": [],
   "source": [
    "import re\n",
    "import cv2\n",
    "import pytesseract\n",
    "from pytesseract import Output\n",
    "pytesseract.pytesseract.tesseract_cmd = r'C:\\Program Files\\Tesseract-OCR\\tesseract'\n",
    "def extractTextFromImg(segment):\n",
    "    text = pytesseract.image_to_string(segment, lang='eng')         \n",
    "    text = text.encode(\"gbk\", 'ignore').decode(\"gbk\", \"ignore\")\n",
    "        \n",
    "    return text"
   ]
  },
  {
   "cell_type": "code",
   "execution_count": 14,
   "id": "94d6695f",
   "metadata": {},
   "outputs": [
    {
     "name": "stdout",
     "output_type": "stream",
     "text": [
      "Electromagnetic induction\n",
      "Introduction\n",
      "\n",
      "A stationary magnet does not cause a flow of current in a stationary conductor, just\n",
      "as an immobile electric charge does not produce a magnetic field. The movement of\n",
      "a magnet in relation to a conductor results in the flow of current across the conductor,\n",
      "just as the movement of charges in a conductor produces a magnetic field.\n",
      "\n",
      "The phenomenon of electric-current induction by a change in the magnetic field is\n",
      "called electromagnetic induction, and the current produced in this way is called an\n",
      "induced current.\n",
      "\n",
      "The phenomenon of induction takes place when the electric conductor is open. At\n",
      "each end of the conductor, there is a potential difference, which is known as the\n",
      "induced electromotive force (EMF).\n",
      "\n",
      "A state of equilibrium is reached when the forces affecting the charges — the Lorentz\n",
      "force and the electric force — are equal:\n",
      "Fin = Fe, QVB = QE\n",
      "Therefore:\n",
      "E-vB.\n",
      "\n",
      "The electric field strength E in the rigid wire is equal to the ratio of the potential\n",
      "difference between the ends of the wire divided by the length of the wire. The\n",
      "difference is called the electromotive force:\n",
      "\n",
      "Therefore:\n",
      "EMF =\n",
      "\n",
      "‘When the flux density does not change, the EMF is proportional to the rate of change\n",
      "in the area enclosed within a circuit and the flux density:\n",
      "\n",
      "EMF =\n",
      "\n",
      "at”\n",
      "\n",
      "When the area within the loop does not change, the EMF is proportional to the rate of\n",
      "change of the flux density and the area within the loop:\n",
      "\n",
      "AMDB\n",
      "EMF =\n",
      "At\n",
      "\n",
      "The induced EMF can be obtained both as a result of changes in the area enclosed\n",
      "within an electric circuit and also as a result of changes in the magnetic flux density.\n",
      "\n",
      "The quantity:\n",
      "@=BA\n",
      "is called flux\n",
      "\n",
      "Applying this quantity, we can now express the principle, known as Faraday's Law:\n",
      "\n"
     ]
    }
   ],
   "source": [
    "segment = cv2.imread(\"electro1.png\")\n",
    "text = extractTextFromImg(segment)\n",
    "print(text)"
   ]
  },
  {
   "cell_type": "code",
   "execution_count": 3,
   "id": "6d650de2",
   "metadata": {},
   "outputs": [],
   "source": [
    "f = open('s.txt', 'a',encoding='utf-8')\n",
    "f.write(text)\n",
    "f.close()"
   ]
  },
  {
   "cell_type": "code",
   "execution_count": 4,
   "id": "58dc8263",
   "metadata": {
    "scrolled": true
   },
   "outputs": [
    {
     "name": "stdout",
     "output_type": "stream",
     "text": [
      "# Extract text from image with two columns of contents\n",
      "import re\n",
      "\n",
      "import cv2\n",
      "\n",
      "import pytesseract\n",
      "\n",
      "from pytesseract import Output\n",
      "\n",
      "# tell pytesseract where the engine is installed\n",
      "pytesseract .pytesseract.tesseract_cmd = r'C:\\Program Files\\Tesseract-OCR\\tesseract'\n",
      "\n",
      "def extractTextFromImg(segment) :\n",
      "text = pytesseract.image_to_string(segment, lang='eng')\n",
      "text = text.encode(\"gbk\", 'ignore').decode(\"gbk\", \"ignore\")\n",
      "\n",
      "return text\n",
      "\n"
     ]
    }
   ],
   "source": [
    "segment = cv2.imread(\"him.jpeg\")\n",
    "text = extractTextFromImg(segment)\n",
    "print(text)"
   ]
  },
  {
   "cell_type": "code",
   "execution_count": 30,
   "id": "a6de721d",
   "metadata": {},
   "outputs": [],
   "source": [
    "f = open('t.txt', 'a')\n",
    "f.write(text)\n",
    "f.close()"
   ]
  },
  {
   "cell_type": "code",
   "execution_count": 5,
   "id": "b80a7e83",
   "metadata": {},
   "outputs": [
    {
     "name": "stdout",
     "output_type": "stream",
     "text": [
      "rsd Faraday’s Law and Electromagnetic\n",
      "Induction\n",
      "* Faraday's law of induction: the instantaneous emf\n",
      "induced in a circuit is directly proportional to the\n",
      "\n",
      "time rate of change of the magnetic flux through the\n",
      "circuit\n",
      "\n",
      "+ If the circuit consists of N loops, all of the same area,\n",
      "and if , is the flux through one loop, an emf is\n",
      "induced in every loop and Faraday’s law becomes\n",
      "\n",
      "\n"
     ]
    }
   ],
   "source": [
    "segment = cv2.imread(\"electro2.jpg\")\n",
    "text1 = extractTextFromImg(segment)\n",
    "print(text1)"
   ]
  },
  {
   "cell_type": "code",
   "execution_count": 6,
   "id": "be03fb8b",
   "metadata": {},
   "outputs": [],
   "source": [
    "f = open('r.txt', 'a')\n",
    "f.write(text1)\n",
    "f.close()"
   ]
  },
  {
   "cell_type": "code",
   "execution_count": 7,
   "id": "fcb03853",
   "metadata": {},
   "outputs": [],
   "source": [
    "import os , sys\n",
    "from collections import OrderedDict\n",
    "from sklearn.feature_extraction.text import TfidfVectorizer\n",
    "from sklearn.metrics.pairwise import cosine_similarity"
   ]
  },
  {
   "cell_type": "code",
   "execution_count": 8,
   "id": "6f8cfa75",
   "metadata": {},
   "outputs": [],
   "source": [
    "student_files = [doc for doc in os.listdir() if doc.endswith('.txt')]\n",
    "student_notes = [open(_file, encoding=\"ISO-8859-1\").read()\n",
    "                 for _file in student_files]"
   ]
  },
  {
   "cell_type": "code",
   "execution_count": 9,
   "id": "708518f1",
   "metadata": {},
   "outputs": [],
   "source": [
    "def vectorize(Text):\n",
    "    return TfidfVectorizer().fit_transform(Text).toarray()\n",
    "def similarity(doc1, doc2):\n",
    "    return cosine_similarity([doc1, doc2])"
   ]
  },
  {
   "cell_type": "code",
   "execution_count": 10,
   "id": "14a43ab1",
   "metadata": {},
   "outputs": [],
   "source": [
    "vectors = vectorize(student_notes)\n",
    "s_vectors = list(zip(student_files, vectors))\n",
    "plagiarism_results = set()"
   ]
  },
  {
   "cell_type": "code",
   "execution_count": 11,
   "id": "78f48886",
   "metadata": {},
   "outputs": [],
   "source": [
    "def check_plagiarism():\n",
    "    global s_vectors\n",
    "    for student_a, text_vector_a in s_vectors:\n",
    "        new_vectors = s_vectors.copy()\n",
    "        current_index = new_vectors.index((student_a, text_vector_a))\n",
    "        del new_vectors[current_index]\n",
    "        for student_b, text_vector_b in new_vectors:\n",
    "            sim_score = similarity(text_vector_a, text_vector_b)[0][1]\n",
    "            student_pair = sorted((student_a, student_b))\n",
    "            score = (student_pair[0], student_pair[1], sim_score)\n",
    "            plagiarism_results.add(score)\n",
    "    return plagiarism_results"
   ]
  },
  {
   "cell_type": "code",
   "execution_count": 12,
   "id": "2e2b8b46",
   "metadata": {},
   "outputs": [
    {
     "name": "stdout",
     "output_type": "stream",
     "text": [
      "('r.txt', 't.txt', 0.050489413029973645)\n",
      "('r.txt', 's.txt', 0.6085921935602672)\n",
      "('s.txt', 't.txt', 0.05917467310393658)\n"
     ]
    }
   ],
   "source": [
    "for data in check_plagiarism():\n",
    "    print(data)"
   ]
  },
  {
   "cell_type": "code",
   "execution_count": null,
   "id": "03f22b7a",
   "metadata": {},
   "outputs": [],
   "source": []
  }
 ],
 "metadata": {
  "kernelspec": {
   "display_name": "Python 3 (ipykernel)",
   "language": "python",
   "name": "python3"
  },
  "language_info": {
   "codemirror_mode": {
    "name": "ipython",
    "version": 3
   },
   "file_extension": ".py",
   "mimetype": "text/x-python",
   "name": "python",
   "nbconvert_exporter": "python",
   "pygments_lexer": "ipython3",
   "version": "3.9.7"
  }
 },
 "nbformat": 4,
 "nbformat_minor": 5
}
